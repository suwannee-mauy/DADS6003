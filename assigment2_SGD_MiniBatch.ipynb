{
  "cells": [
    {
      "cell_type": "markdown",
      "metadata": {
        "id": "view-in-github",
        "colab_type": "text"
      },
      "source": [
        "<a href=\"https://colab.research.google.com/github/suwannee-mauy/DADS6003_week03/blob/main/assigment2_SGD_MiniBatch.ipynb\" target=\"_parent\"><img src=\"https://colab.research.google.com/assets/colab-badge.svg\" alt=\"Open In Colab\"/></a>"
      ]
    },
    {
      "cell_type": "markdown",
      "metadata": {
        "id": "q3LSmwS-JONU"
      },
      "source": [
        "# Stochastic GD\n",
        "## Your turn :)"
      ]
    },
    {
      "cell_type": "code",
      "source": [
        "import pandas as pd\n",
        "import numpy as np\n",
        "\n",
        "x = np.array([[0,1],[2,6],[3,8]]) #x1, x2\n",
        "y = np.array([1,1,4])\n",
        "\n",
        "x_b = np.c_[np.ones((x.shape[0],1)),x]\n",
        "x_b"
      ],
      "metadata": {
        "colab": {
          "base_uri": "https://localhost:8080/"
        },
        "id": "Aex31bQmF4jl",
        "outputId": "1acc80c1-442c-4be8-b380-13fc9f460805"
      },
      "execution_count": null,
      "outputs": [
        {
          "output_type": "execute_result",
          "data": {
            "text/plain": [
              "array([[1., 0., 1.],\n",
              "       [1., 2., 6.],\n",
              "       [1., 3., 8.]])"
            ]
          },
          "metadata": {},
          "execution_count": 10
        }
      ]
    },
    {
      "cell_type": "code",
      "source": [
        "def cost_function_SGD(theta, x, y, N):\n",
        "    mrg_xy = np.c_[x, y] # merge x(with bias) and y\n",
        "    RanN = np.random.randint(0, mrg_xy.shape[1]-1) # random integer\n",
        "    y_hat = theta[0] * mrg_xy[RanN][0] + theta[1] * mrg_xy[RanN][1] + theta[2] * mrg_xy[RanN][2]\n",
        "    diff = y_hat - mrg_xy[RanN][3]\n",
        "    c = (diff)**2\n",
        "\n",
        "    return c"
      ],
      "metadata": {
        "id": "5LQq2X9PnGVg"
      },
      "execution_count": null,
      "outputs": []
    },
    {
      "cell_type": "code",
      "source": [
        "def stochastic_gradient_descent(alpha, lamda_ , x, y, ep=0.000000000001, max_iter=10000):\n",
        "    converged = False\n",
        "    iter = 0\n",
        "    N = x.shape[0] # N = row\n",
        "    t = 1\n",
        "\n",
        "    # initial theta\n",
        "    theta = np.random.random((x.shape[1],1))\n",
        "    print(f\"Initial theta: {theta}\")\n",
        "\n",
        "    # total error, J(theta)\n",
        "    J = cost_function_SGD(theta, x, y, N)\n",
        "    print(\"First J:\", J)\n",
        "\n",
        "    # Iterate Loop\n",
        "    while not converged:\n",
        "        mrg_xy = np.c_[x, y] # rebuild\n",
        "        RanN = np.random.randint(0, mrg_xy.shape[1]-1) # random integer\n",
        "        y_hat = theta[0] * mrg_xy[RanN][0] + theta[1] * mrg_xy[RanN][1] + theta[2] * mrg_xy[RanN][2]\n",
        "        diff = y_hat - mrg_xy[RanN][3]\n",
        "        stoch = (x[RanN] * diff).reshape(-1,1) # x_ij * diff\n",
        "\n",
        "        alpha_t = alpha / (1+(alpha*lamda_*t)) #alpha t +1\n",
        "\n",
        "        theta = theta - alpha_t * (stoch) # update theta\n",
        "\n",
        "        assert theta.shape == (x.shape[1],1) #This line makes sure that the shape of theta is still be the same.\n",
        "\n",
        "        # error\n",
        "        J2 = cost_function_SGD(theta, x, y, N) # use updated theta\n",
        "\n",
        "        if abs(J-J2) <= ep:\n",
        "            print(\"       Converged, iterations: \", iter, \"/\", max_iter)\n",
        "            converged = True\n",
        "\n",
        "        J = J2   # update error s\n",
        "        iter += 1  # update iter\n",
        "        t += 1\n",
        "\n",
        "        if iter == max_iter:\n",
        "            print('       Max iterations exceeded!')\n",
        "            converged = True\n",
        "\n",
        "    #print(\"End converged iter = \",iter)\n",
        "    return theta"
      ],
      "metadata": {
        "id": "49CIuvSInG_m"
      },
      "execution_count": null,
      "outputs": []
    },
    {
      "cell_type": "code",
      "source": [
        "if __name__ == '__main__':\n",
        "\n",
        "    alpha = 0.01 # learning rate\n",
        "    lambda_ = 0.1\n",
        "\n",
        "    #Training process\n",
        "    theta = stochastic_gradient_descent(alpha, lambda_, x_b, y, ep=0.00000000000001, max_iter=100000)\n",
        "    print (\"Theta = \", theta)\n",
        "\n",
        "    #predict trainned x\n",
        "    xtest = np.array([[i,j] for i,j in zip(range(20), range(20))])\n",
        "    xtest_b = np.c_[np.ones((xtest.shape[0],1)),xtest]\n",
        "    y_p = xtest_b.dot(theta)\n",
        "    print(\"y predict = \",y_p)\n",
        "\n",
        "    import matplotlib.pyplot as plt\n",
        "    plt.title(\"y = \"+str(np.round(theta[0],2))+\"+\"+str(np.round(theta[1],2))+r\"$x_1$\"+\"+\"+str(np.round(theta[2],2))+r\"$x_2$\")\n",
        "    plt.plot(xtest, y_p,\"r.-\")\n",
        "    plt.plot(x[:,0], y, \"b+\")\n",
        "    plt.plot(x[:,1], y, \"g+\")\n",
        "\n",
        "\n",
        "    plt.axis([0,10,0,10])\n",
        "    plt.xlabel(r'$x$')\n",
        "\n",
        "    plt.ylabel(r'$y$')\n",
        "    plt.show()\n"
      ],
      "metadata": {
        "colab": {
          "base_uri": "https://localhost:8080/",
          "height": 960
        },
        "id": "yZkuG5eNnMO5",
        "outputId": "ab96de21-7ad7-4dc0-aeac-b6c34bd6cab3"
      },
      "execution_count": null,
      "outputs": [
        {
          "output_type": "stream",
          "name": "stdout",
          "text": [
            "Initial theta: [[0.55989876]\n",
            " [0.16512319]\n",
            " [0.27245369]]\n",
            "First J: [0.58538134]\n",
            "       Max iterations exceeded!\n",
            "Theta =  [[ 1.19171081]\n",
            " [ 2.23564961]\n",
            " [-0.5794137 ]]\n",
            "y predict =  [[ 1.19171081]\n",
            " [ 2.84794672]\n",
            " [ 4.50418263]\n",
            " [ 6.16041854]\n",
            " [ 7.81665445]\n",
            " [ 9.47289035]\n",
            " [11.12912626]\n",
            " [12.78536217]\n",
            " [14.44159808]\n",
            " [16.09783399]\n",
            " [17.7540699 ]\n",
            " [19.41030581]\n",
            " [21.06654171]\n",
            " [22.72277762]\n",
            " [24.37901353]\n",
            " [26.03524944]\n",
            " [27.69148535]\n",
            " [29.34772126]\n",
            " [31.00395717]\n",
            " [32.66019308]]\n"
          ]
        },
        {
          "output_type": "display_data",
          "data": {
            "text/plain": [
              "<Figure size 640x480 with 1 Axes>"
            ],
            "image/png": "[encoded data removed]"
          },
          "metadata": {}
        }
      ]
    },
    {
      "cell_type": "markdown",
      "metadata": {
        "id": "EDicYUpzJONV"
      },
      "source": [
        "# Mini-batch GD  (shuffle แล้วเรียกเรียง เช่น 1-10)\n",
        "## Your turn :)"
      ]
    },
    {
      "cell_type": "code",
      "source": [
        "def cost_function_miniBGD(theta, x, y, N):\n",
        "    mrg_xy = np.c_[x, y]\n",
        "    np.random.shuffle(mrg_xy)\n",
        "    mrg_xy = mrg_xy[:N]\n",
        "\n",
        "    c = 1/(2*N) * sum([(theta[0] + theta[1]*mrg_xy[i][1]+ theta[2]*mrg_xy[i][2] - mrg_xy[i][3])**2 for i in range(N)])\n",
        "\n",
        "    x = mrg_xy[:,:-1].reshape(-1, x.shape[1])\n",
        "    y = mrg_xy[:,-1].reshape(-1,1)\n",
        "    y_hat = x.dot(theta)\n",
        "    diff = y_hat - y\n",
        "    grad = x.T.dot(diff)\n",
        "\n",
        "    return c, grad\n"
      ],
      "metadata": {
        "id": "MaBkxLfIIvKF"
      },
      "execution_count": null,
      "outputs": []
    },
    {
      "cell_type": "code",
      "source": [
        "from google.colab import drive\n",
        "drive.mount('/content/drive')"
      ],
      "metadata": {
        "id": "Z0Ezicd0JuMx"
      },
      "execution_count": null,
      "outputs": []
    },
    {
      "cell_type": "code",
      "source": [
        "def mini_batch_gradient_descent(alpha, x, y, N,ep=0.001, max_iter=10000):\n",
        "  converged = False\n",
        "  iter = 0\n",
        "\n",
        "  # initial theta\n",
        "  theta =  np.random.random((x.shape[1],1))\n",
        "  print(\"Init theta.shape = \",theta.shape)\n",
        "\n",
        "  # total error, J(theta)\n",
        "  J,grad = cost_function_miniBGD(theta, x, y, N)\n",
        "\n",
        "  # Iterate Loop\n",
        "  while not converged:\n",
        "\n",
        "    theta = theta - alpha * (1/N) * (grad)\n",
        "    # print(theta.shape)\n",
        "    assert theta.shape == (x.shape[1],1) #This line makes sure that the shape of theta is still be the same.\n",
        "\n",
        "    # error\n",
        "    J2,grad = cost_function_miniBGD(theta, x, y, N)\n",
        "\n",
        "    if abs(J-J2) <= ep:\n",
        "        print(\"       Converged, iterations: \", iter, \"/\", max_iter)\n",
        "        converged = True\n",
        "\n",
        "    J = J2   # update error s\n",
        "    iter += 1  # update iter\n",
        "\n",
        "    if iter == max_iter:\n",
        "        print('       Max iterations exceeded!')\n",
        "        converged = True\n",
        "\n",
        "  #print(\"End converged iter = \",iter)\n",
        "  return theta"
      ],
      "metadata": {
        "id": "1UsrD5qaI0iU"
      },
      "execution_count": null,
      "outputs": []
    },
    {
      "cell_type": "code",
      "source": [
        "if __name__ == '__main__':\n",
        "    alpha = 0.01 # learning rate\n",
        "    N = 2\n",
        "    theta = np.random.random((x.shape[1], 1))\n",
        "\n",
        "    #Training process\n",
        "    theta = mini_batch_gradient_descent(alpha, x_b, y, N, ep=0.00000000000001, max_iter=100)\n",
        "    print (\"Theta = \", theta)\n",
        "\n",
        "    #predict trainned x\n",
        "    xtest = np.array([[i,j] for i,j in zip(range(20), range(20))])\n",
        "    xtest_b = np.c_[np.ones((xtest.shape[0],1)),xtest]\n",
        "    y_p = xtest_b.dot(theta)\n",
        "    print(\"y predict = \",y_p)\n",
        "\n",
        "    import matplotlib.pyplot as plt\n",
        "    plt.title(\"y = \"+str(np.round(theta[0],2))+\"+\"+str(np.round(theta[1],2))+r\"$x_1$\"+\"+\"+str(np.round(theta[2],2))+r\"$x_2$\")\n",
        "    plt.plot(xtest, y_p,\"r.-\")\n",
        "    plt.plot(x[:,0], y, \"b+\")\n",
        "    plt.plot(x[:,1], y, \"g+\")\n",
        "\n",
        "    plt.axis([0,10,0,10])\n",
        "    plt.xlabel(r'$x$')\n",
        "\n",
        "    plt.ylabel(r'$y$')\n",
        "    plt.show()"
      ],
      "metadata": {
        "colab": {
          "base_uri": "https://localhost:8080/",
          "height": 908
        },
        "id": "03QMiXaQI9_n",
        "outputId": "31ad3573-d08d-4743-cda9-6ac97df29f59"
      },
      "execution_count": null,
      "outputs": [
        {
          "output_type": "stream",
          "name": "stdout",
          "text": [
            "Init theta.shape =  (3, 1)\n",
            "       Max iterations exceeded!\n",
            "Theta =  [[0.43366593]\n",
            " [0.19745277]\n",
            " [0.28101583]]\n",
            "y predict =  [[0.43366593]\n",
            " [0.91213453]\n",
            " [1.39060314]\n",
            " [1.86907174]\n",
            " [2.34754034]\n",
            " [2.82600895]\n",
            " [3.30447755]\n",
            " [3.78294615]\n",
            " [4.26141476]\n",
            " [4.73988336]\n",
            " [5.21835196]\n",
            " [5.69682057]\n",
            " [6.17528917]\n",
            " [6.65375777]\n",
            " [7.13222638]\n",
            " [7.61069498]\n",
            " [8.08916359]\n",
            " [8.56763219]\n",
            " [9.04610079]\n",
            " [9.5245694 ]]\n"
          ]
        },
        {
          "output_type": "display_data",
          "data": {
            "text/plain": [
              "<Figure size 640x480 with 1 Axes>"
            ],
            "image/png": "[encoded data removed]"
          },
          "metadata": {}
        }
      ]
    }
  ],
  "metadata": {
    "kernelspec": {
      "display_name": "Python 3",
      "language": "python",
      "name": "python3"
    },
    "language_info": {
      "codemirror_mode": {
        "name": "ipython",
        "version": 3
      },
      "file_extension": ".py",
      "mimetype": "text/x-python",
      "name": "python",
      "nbconvert_exporter": "python",
      "pygments_lexer": "ipython3",
      "version": "3.7.4"
    },
    "colab": {
      "provenance": [],
      "include_colab_link": true
    }
  },
  "nbformat": 4,
  "nbformat_minor": 0
}